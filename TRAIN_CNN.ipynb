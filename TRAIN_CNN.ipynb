{
  "cells": [
    {
      "cell_type": "code",
      "source": [
        "import tensorflow"
      ],
      "metadata": {
        "id": "qC99eEjHy5v2"
      },
      "execution_count": null,
      "outputs": []
    },
    {
      "cell_type": "code",
      "source": [
        "from google.colab import drive\n",
        "drive.mount('/content/drive')"
      ],
      "metadata": {
        "colab": {
          "base_uri": "https://localhost:8080/"
        },
        "id": "yCFlJyNoxpBf",
        "outputId": "f9ea213c-624a-4d5b-8fec-9d9d83355ee8"
      },
      "execution_count": null,
      "outputs": [
        {
          "output_type": "stream",
          "name": "stdout",
          "text": [
            "Mounted at /content/drive\n"
          ]
        }
      ]
    },
    {
      "cell_type": "code",
      "execution_count": null,
      "metadata": {
        "colab": {
          "base_uri": "https://localhost:8080/"
        },
        "id": "joiWtPIsxf6R",
        "outputId": "e9cc81f6-1950-4d7d-d682-e428809a5f37"
      },
      "outputs": [
        {
          "output_type": "stream",
          "name": "stdout",
          "text": [
            "{'TRAIN': 0, 'TEST': 1}\n",
            "['TRAIN', 'TEST']\n",
            "[0, 1]\n"
          ]
        }
      ],
      "source": [
        "import cv2,os\n",
        "import matplotlib.pyplot as plt\n",
        "\n",
        "data_path='/content/drive/MyDrive/Sign_Language_Detection/Dataset'\n",
        "categories=os.listdir(data_path)\n",
        "labels=[i for i in range(len(categories))]\n",
        "\n",
        "label_dict=dict(zip(categories,labels))\n",
        "\n",
        "print(label_dict)\n",
        "print(categories)\n",
        "print(labels)"
      ]
    },
    {
      "cell_type": "code",
      "execution_count": null,
      "metadata": {
        "colab": {
          "base_uri": "https://localhost:8080/"
        },
        "id": "e0Vk_hcFxf6Z",
        "outputId": "27e7740c-0def-4554-cfb7-8f526ced890c"
      },
      "outputs": [
        {
          "output_type": "stream",
          "name": "stdout",
          "text": [
            "['G', 'V', 'N', 'Q', 'X', 'O', 'S', 'U', 'W', 'J', 'B', 'M', 'R', 'Y', 'E', '0', 'F', 'L', 'H', 'C', 'T', 'A', 'I', 'Z', 'K', 'D', 'P']\n",
            "[0, 1, 2, 3, 4, 5, 6, 7, 8, 9, 10, 11, 12, 13, 14, 15, 16, 17, 18, 19, 20, 21, 22, 23, 24, 25, 26]\n"
          ]
        }
      ],
      "source": [
        "data_path='/content/drive/MyDrive/Sign_Language_Detection/Dataset/TRAIN'\n",
        "classes_path=os.listdir(data_path)\n",
        "classesf=os.listdir(data_path)\n",
        "print(classesf)\n",
        "labels_classes=[i for i in range(len(classesf))]\n",
        "print(labels_classes)"
      ]
    },
    {
      "cell_type": "code",
      "execution_count": null,
      "metadata": {
        "id": "E8RWSlnRxf6d"
      },
      "outputs": [],
      "source": [
        "data_path='/content/drive/MyDrive/Sign_Language_Detection/Dataset'"
      ]
    },
    {
      "cell_type": "code",
      "execution_count": null,
      "metadata": {
        "id": "BoDC_NCAxf6g"
      },
      "outputs": [],
      "source": [
        "label_classes_dict=dict(zip(classesf,labels_classes))"
      ]
    },
    {
      "cell_type": "code",
      "execution_count": null,
      "metadata": {
        "colab": {
          "base_uri": "https://localhost:8080/"
        },
        "id": "rYNwSgadxf6i",
        "outputId": "747eb2d0-e476-48cb-d08e-a015fd8deed1"
      },
      "outputs": [
        {
          "output_type": "stream",
          "name": "stdout",
          "text": [
            "{'G': 0, 'V': 1, 'N': 2, 'Q': 3, 'X': 4, 'O': 5, 'S': 6, 'U': 7, 'W': 8, 'J': 9, 'B': 10, 'M': 11, 'R': 12, 'Y': 13, 'E': 14, '0': 15, 'F': 16, 'L': 17, 'H': 18, 'C': 19, 'T': 20, 'A': 21, 'I': 22, 'Z': 23, 'K': 24, 'D': 25, 'P': 26}\n"
          ]
        }
      ],
      "source": [
        "#print(labels_classes)\n",
        "#print(categories)\n",
        "print(label_classes_dict)"
      ]
    },
    {
      "cell_type": "code",
      "execution_count": null,
      "metadata": {
        "id": "8Qga55Swxf6m"
      },
      "outputs": [],
      "source": [
        "import numpy as np"
      ]
    },
    {
      "cell_type": "code",
      "execution_count": null,
      "metadata": {
        "colab": {
          "base_uri": "https://localhost:8080/"
        },
        "id": "g_csOOl0xf6p",
        "outputId": "0c8d4353-6b47-4245-aca0-832a545002e9"
      },
      "outputs": [
        {
          "output_type": "stream",
          "name": "stdout",
          "text": [
            "/content/drive/MyDrive/Hackathon/Trident_Hacks/Sign_Language_Detection/Dataset/TRAIN\n",
            "['G', 'V', 'N', 'Q', 'X', 'O', 'S', 'U', 'W', 'J', 'B', 'M', 'R', 'Y', 'E', '0', 'F', 'L', 'H', 'C', 'T', 'A', 'I', 'Z', 'K', 'D', 'P']\n",
            "/content/drive/MyDrive/Hackathon/Trident_Hacks/Sign_Language_Detection/Dataset/TRAIN/G\n",
            "/content/drive/MyDrive/Hackathon/Trident_Hacks/Sign_Language_Detection/Dataset/TRAIN/V\n",
            "/content/drive/MyDrive/Hackathon/Trident_Hacks/Sign_Language_Detection/Dataset/TRAIN/N\n",
            "/content/drive/MyDrive/Hackathon/Trident_Hacks/Sign_Language_Detection/Dataset/TRAIN/Q\n",
            "/content/drive/MyDrive/Hackathon/Trident_Hacks/Sign_Language_Detection/Dataset/TRAIN/X\n",
            "/content/drive/MyDrive/Hackathon/Trident_Hacks/Sign_Language_Detection/Dataset/TRAIN/O\n",
            "/content/drive/MyDrive/Hackathon/Trident_Hacks/Sign_Language_Detection/Dataset/TRAIN/S\n",
            "/content/drive/MyDrive/Hackathon/Trident_Hacks/Sign_Language_Detection/Dataset/TRAIN/U\n",
            "/content/drive/MyDrive/Hackathon/Trident_Hacks/Sign_Language_Detection/Dataset/TRAIN/W\n",
            "/content/drive/MyDrive/Hackathon/Trident_Hacks/Sign_Language_Detection/Dataset/TRAIN/J\n",
            "/content/drive/MyDrive/Hackathon/Trident_Hacks/Sign_Language_Detection/Dataset/TRAIN/B\n",
            "/content/drive/MyDrive/Hackathon/Trident_Hacks/Sign_Language_Detection/Dataset/TRAIN/M\n",
            "/content/drive/MyDrive/Hackathon/Trident_Hacks/Sign_Language_Detection/Dataset/TRAIN/R\n",
            "/content/drive/MyDrive/Hackathon/Trident_Hacks/Sign_Language_Detection/Dataset/TRAIN/Y\n",
            "/content/drive/MyDrive/Hackathon/Trident_Hacks/Sign_Language_Detection/Dataset/TRAIN/E\n",
            "/content/drive/MyDrive/Hackathon/Trident_Hacks/Sign_Language_Detection/Dataset/TRAIN/0\n",
            "Exception: OpenCV(4.7.0) /io/opencv/modules/imgproc/src/color.cpp:182: error: (-215:Assertion failed) !_src.empty() in function 'cvtColor'\n",
            "\n",
            "/content/drive/MyDrive/Hackathon/Trident_Hacks/Sign_Language_Detection/Dataset/TRAIN/F\n",
            "/content/drive/MyDrive/Hackathon/Trident_Hacks/Sign_Language_Detection/Dataset/TRAIN/L\n",
            "/content/drive/MyDrive/Hackathon/Trident_Hacks/Sign_Language_Detection/Dataset/TRAIN/H\n",
            "/content/drive/MyDrive/Hackathon/Trident_Hacks/Sign_Language_Detection/Dataset/TRAIN/C\n",
            "/content/drive/MyDrive/Hackathon/Trident_Hacks/Sign_Language_Detection/Dataset/TRAIN/T\n",
            "/content/drive/MyDrive/Hackathon/Trident_Hacks/Sign_Language_Detection/Dataset/TRAIN/A\n",
            "/content/drive/MyDrive/Hackathon/Trident_Hacks/Sign_Language_Detection/Dataset/TRAIN/I\n",
            "/content/drive/MyDrive/Hackathon/Trident_Hacks/Sign_Language_Detection/Dataset/TRAIN/Z\n",
            "/content/drive/MyDrive/Hackathon/Trident_Hacks/Sign_Language_Detection/Dataset/TRAIN/K\n",
            "/content/drive/MyDrive/Hackathon/Trident_Hacks/Sign_Language_Detection/Dataset/TRAIN/D\n",
            "/content/drive/MyDrive/Hackathon/Trident_Hacks/Sign_Language_Detection/Dataset/TRAIN/P\n",
            "/content/drive/MyDrive/Hackathon/Trident_Hacks/Sign_Language_Detection/Dataset/TEST\n",
            "['test']\n",
            "/content/drive/MyDrive/Hackathon/Trident_Hacks/Sign_Language_Detection/Dataset/TEST/test\n",
            "Exception: OpenCV(4.7.0) /io/opencv/modules/imgproc/src/color.cpp:182: error: (-215:Assertion failed) !_src.empty() in function 'cvtColor'\n",
            "\n",
            "Exception: OpenCV(4.7.0) /io/opencv/modules/imgproc/src/color.cpp:182: error: (-215:Assertion failed) !_src.empty() in function 'cvtColor'\n",
            "\n",
            "Exception: OpenCV(4.7.0) /io/opencv/modules/imgproc/src/color.cpp:182: error: (-215:Assertion failed) !_src.empty() in function 'cvtColor'\n",
            "\n",
            "Exception: OpenCV(4.7.0) /io/opencv/modules/imgproc/src/color.cpp:182: error: (-215:Assertion failed) !_src.empty() in function 'cvtColor'\n",
            "\n",
            "Exception: OpenCV(4.7.0) /io/opencv/modules/imgproc/src/color.cpp:182: error: (-215:Assertion failed) !_src.empty() in function 'cvtColor'\n",
            "\n",
            "Exception: OpenCV(4.7.0) /io/opencv/modules/imgproc/src/color.cpp:182: error: (-215:Assertion failed) !_src.empty() in function 'cvtColor'\n",
            "\n",
            "Exception: OpenCV(4.7.0) /io/opencv/modules/imgproc/src/color.cpp:182: error: (-215:Assertion failed) !_src.empty() in function 'cvtColor'\n",
            "\n",
            "Exception: OpenCV(4.7.0) /io/opencv/modules/imgproc/src/color.cpp:182: error: (-215:Assertion failed) !_src.empty() in function 'cvtColor'\n",
            "\n",
            "Exception: OpenCV(4.7.0) /io/opencv/modules/imgproc/src/color.cpp:182: error: (-215:Assertion failed) !_src.empty() in function 'cvtColor'\n",
            "\n",
            "Exception: OpenCV(4.7.0) /io/opencv/modules/imgproc/src/color.cpp:182: error: (-215:Assertion failed) !_src.empty() in function 'cvtColor'\n",
            "\n",
            "Exception: OpenCV(4.7.0) /io/opencv/modules/imgproc/src/color.cpp:182: error: (-215:Assertion failed) !_src.empty() in function 'cvtColor'\n",
            "\n",
            "Exception: OpenCV(4.7.0) /io/opencv/modules/imgproc/src/color.cpp:182: error: (-215:Assertion failed) !_src.empty() in function 'cvtColor'\n",
            "\n",
            "Exception: OpenCV(4.7.0) /io/opencv/modules/imgproc/src/color.cpp:182: error: (-215:Assertion failed) !_src.empty() in function 'cvtColor'\n",
            "\n",
            "Exception: OpenCV(4.7.0) /io/opencv/modules/imgproc/src/color.cpp:182: error: (-215:Assertion failed) !_src.empty() in function 'cvtColor'\n",
            "\n",
            "Exception: OpenCV(4.7.0) /io/opencv/modules/imgproc/src/color.cpp:182: error: (-215:Assertion failed) !_src.empty() in function 'cvtColor'\n",
            "\n",
            "Exception: OpenCV(4.7.0) /io/opencv/modules/imgproc/src/color.cpp:182: error: (-215:Assertion failed) !_src.empty() in function 'cvtColor'\n",
            "\n",
            "Exception: OpenCV(4.7.0) /io/opencv/modules/imgproc/src/color.cpp:182: error: (-215:Assertion failed) !_src.empty() in function 'cvtColor'\n",
            "\n",
            "Exception: OpenCV(4.7.0) /io/opencv/modules/imgproc/src/color.cpp:182: error: (-215:Assertion failed) !_src.empty() in function 'cvtColor'\n",
            "\n",
            "Exception: OpenCV(4.7.0) /io/opencv/modules/imgproc/src/color.cpp:182: error: (-215:Assertion failed) !_src.empty() in function 'cvtColor'\n",
            "\n",
            "Exception: OpenCV(4.7.0) /io/opencv/modules/imgproc/src/color.cpp:182: error: (-215:Assertion failed) !_src.empty() in function 'cvtColor'\n",
            "\n",
            "Exception: OpenCV(4.7.0) /io/opencv/modules/imgproc/src/color.cpp:182: error: (-215:Assertion failed) !_src.empty() in function 'cvtColor'\n",
            "\n",
            "Exception: OpenCV(4.7.0) /io/opencv/modules/imgproc/src/color.cpp:182: error: (-215:Assertion failed) !_src.empty() in function 'cvtColor'\n",
            "\n",
            "Exception: OpenCV(4.7.0) /io/opencv/modules/imgproc/src/color.cpp:182: error: (-215:Assertion failed) !_src.empty() in function 'cvtColor'\n",
            "\n",
            "Exception: OpenCV(4.7.0) /io/opencv/modules/imgproc/src/color.cpp:182: error: (-215:Assertion failed) !_src.empty() in function 'cvtColor'\n",
            "\n",
            "Exception: OpenCV(4.7.0) /io/opencv/modules/imgproc/src/color.cpp:182: error: (-215:Assertion failed) !_src.empty() in function 'cvtColor'\n",
            "\n",
            "Exception: OpenCV(4.7.0) /io/opencv/modules/imgproc/src/color.cpp:182: error: (-215:Assertion failed) !_src.empty() in function 'cvtColor'\n",
            "\n",
            "Exception: OpenCV(4.7.0) /io/opencv/modules/imgproc/src/color.cpp:182: error: (-215:Assertion failed) !_src.empty() in function 'cvtColor'\n",
            "\n"
          ]
        }
      ],
      "source": [
        "img_size=128\n",
        "data=[]\n",
        "target=[]\n",
        "c=0\n",
        "minValue = 70\n",
        "for category in categories:\n",
        "\n",
        "    cat_path=os.path.join(data_path,category)\n",
        "    print(cat_path)\n",
        "    cat_names=os.listdir(cat_path)\n",
        "    print(cat_names)\n",
        "    for classes in cat_names:\n",
        "        folder_path=os.path.join(data_path,category,classes)\n",
        "        print(folder_path)\n",
        "        img_names=os.listdir(folder_path)\n",
        "        for img_name in img_names:\n",
        "            img_path=os.path.join(folder_path,img_name)\n",
        "            img=cv2.imread(img_path)\n",
        "\n",
        "            try:\n",
        "                gray=cv2.cvtColor(img,cv2.COLOR_BGR2GRAY)\n",
        "                blur = cv2.GaussianBlur(gray,(5,5),2)\n",
        "                th3 = cv2.adaptiveThreshold(blur,255,cv2.ADAPTIVE_THRESH_GAUSSIAN_C,cv2.THRESH_BINARY_INV,11,2)\n",
        "                ret, res = cv2.threshold(th3, minValue, 255, cv2.THRESH_BINARY_INV+cv2.THRESH_OTSU)\n",
        "                resized=cv2.resize(res,(img_size,img_size))\n",
        "                data.append(resized)\n",
        "                target.append(label_classes_dict[classes])\n",
        "            except Exception as e:\n",
        "                print('Exception:',e)"
      ]
    },
    {
      "cell_type": "code",
      "execution_count": null,
      "metadata": {
        "id": "wgzxZkvWxf6v"
      },
      "outputs": [],
      "source": [
        "datanp=np.array(data)"
      ]
    },
    {
      "cell_type": "code",
      "execution_count": null,
      "metadata": {
        "id": "mQK1DB0Jxf65",
        "outputId": "6da9b779-39d9-4d57-86c6-76943c92ab36",
        "colab": {
          "base_uri": "https://localhost:8080/"
        }
      },
      "outputs": [
        {
          "output_type": "execute_result",
          "data": {
            "text/plain": [
              "(12380, 128, 128)"
            ]
          },
          "metadata": {},
          "execution_count": 12
        }
      ],
      "source": [
        "datanp.shape"
      ]
    },
    {
      "cell_type": "code",
      "execution_count": null,
      "metadata": {
        "id": "VjqtyNz0xf69",
        "outputId": "88f9daf5-4fd2-45e6-a6db-4d96595bb55b",
        "colab": {
          "base_uri": "https://localhost:8080/"
        }
      },
      "outputs": [
        {
          "output_type": "execute_result",
          "data": {
            "text/plain": [
              "(12380,)"
            ]
          },
          "metadata": {},
          "execution_count": 13
        }
      ],
      "source": [
        "targetnp=np.array(target)\n",
        "\n",
        "targetnp.shape"
      ]
    },
    {
      "cell_type": "code",
      "execution_count": null,
      "metadata": {
        "id": "St0CJl47xf6_"
      },
      "outputs": [],
      "source": [
        "import numpy as np\n",
        "\n",
        "data=np.array(data)/255.0\n",
        "data=np.reshape(data,(data.shape[0],img_size,img_size,1))\n",
        "target=np.array(target)\n",
        "\n",
        "from tensorflow.keras.utils import to_categorical\n",
        "\n",
        "new_target=to_categorical(target)"
      ]
    },
    {
      "cell_type": "code",
      "execution_count": null,
      "metadata": {
        "id": "V69JvENgxf7B",
        "outputId": "0fa4d2ef-1d25-417e-b647-e946b1eda167",
        "colab": {
          "base_uri": "https://localhost:8080/"
        }
      },
      "outputs": [
        {
          "output_type": "execute_result",
          "data": {
            "text/plain": [
              "(12380, 27)"
            ]
          },
          "metadata": {},
          "execution_count": 15
        }
      ],
      "source": [
        "new_target.shape"
      ]
    },
    {
      "cell_type": "code",
      "execution_count": null,
      "metadata": {
        "id": "vHoXRhL8xf7D"
      },
      "outputs": [],
      "source": [
        "np.save('data_img',data)\n",
        "np.save('target',new_target)"
      ]
    },
    {
      "cell_type": "code",
      "execution_count": null,
      "metadata": {
        "id": "59X2zp6Txf7E"
      },
      "outputs": [],
      "source": [
        "data=np.load('data_img.npy')\n",
        "target=np.load('target.npy')"
      ]
    },
    {
      "cell_type": "code",
      "execution_count": null,
      "metadata": {
        "id": "Ktf9bhdRxf7G"
      },
      "outputs": [],
      "source": [
        "from sklearn.model_selection import train_test_split\n",
        "train_data,test_data,train_target,test_target=train_test_split(data,new_target,test_size=0.2)"
      ]
    },
    {
      "cell_type": "code",
      "execution_count": null,
      "metadata": {
        "id": "AYmNZQcsxf7H",
        "outputId": "342d5e60-641b-4a6a-d379-2f7e40c3478e",
        "colab": {
          "base_uri": "https://localhost:8080/"
        }
      },
      "outputs": [
        {
          "output_type": "stream",
          "name": "stdout",
          "text": [
            "Model: \"sequential\"\n",
            "_________________________________________________________________\n",
            " Layer (type)                Output Shape              Param #   \n",
            "=================================================================\n",
            " conv2d (Conv2D)             (None, 126, 126, 32)      320       \n",
            "                                                                 \n",
            " max_pooling2d (MaxPooling2D  (None, 63, 63, 32)       0         \n",
            " )                                                               \n",
            "                                                                 \n",
            " conv2d_1 (Conv2D)           (None, 61, 61, 32)        9248      \n",
            "                                                                 \n",
            " max_pooling2d_1 (MaxPooling  (None, 30, 30, 32)       0         \n",
            " 2D)                                                             \n",
            "                                                                 \n",
            " flatten (Flatten)           (None, 28800)             0         \n",
            "                                                                 \n",
            " dense (Dense)               (None, 128)               3686528   \n",
            "                                                                 \n",
            " dropout (Dropout)           (None, 128)               0         \n",
            "                                                                 \n",
            " dense_1 (Dense)             (None, 96)                12384     \n",
            "                                                                 \n",
            " dropout_1 (Dropout)         (None, 96)                0         \n",
            "                                                                 \n",
            " dense_2 (Dense)             (None, 64)                6208      \n",
            "                                                                 \n",
            " dense_3 (Dense)             (None, 27)                1755      \n",
            "                                                                 \n",
            "=================================================================\n",
            "Total params: 3,716,443\n",
            "Trainable params: 3,716,443\n",
            "Non-trainable params: 0\n",
            "_________________________________________________________________\n"
          ]
        }
      ],
      "source": [
        "from tensorflow.keras.models import Sequential\n",
        "from tensorflow.keras.layers import Convolution2D\n",
        "from tensorflow.keras.layers import MaxPooling2D\n",
        "from tensorflow.keras.layers import Flatten\n",
        "from tensorflow.keras.layers import Dense , Dropout\n",
        "import os\n",
        "os.environ[\"CUDA_VISIBLE_DEVICES\"] = \"1\"\n",
        "sz = 128\n",
        "classifier = Sequential()\n",
        "classifier.add(Convolution2D(32, (3, 3), input_shape=(sz, sz, 1), activation='relu'))\n",
        "classifier.add(MaxPooling2D(pool_size=(2, 2)))\n",
        "classifier.add(Convolution2D(32, (3, 3), activation='relu'))\n",
        "classifier.add(MaxPooling2D(pool_size=(2, 2)))\n",
        "classifier.add(Flatten())\n",
        "classifier.add(Dense(units=128, activation='relu'))\n",
        "classifier.add(Dropout(0.40))\n",
        "classifier.add(Dense(units=96, activation='relu'))\n",
        "classifier.add(Dropout(0.40))\n",
        "classifier.add(Dense(units=64, activation='relu'))\n",
        "classifier.add(Dense(units=27, activation='softmax')) # softmax for more than 2\n",
        "\n",
        "classifier.compile(optimizer='adam', loss='categorical_crossentropy', metrics=['accuracy']) # categorical_crossentropy for more than 2\n",
        "\n",
        "classifier.summary()"
      ]
    },
    {
      "cell_type": "code",
      "execution_count": null,
      "metadata": {
        "id": "aycLlNktxf7L"
      },
      "outputs": [],
      "source": [
        "from tensorflow.keras.callbacks import ModelCheckpoint"
      ]
    },
    {
      "cell_type": "code",
      "execution_count": null,
      "metadata": {
        "id": "ZRrnR8rIxf7M",
        "outputId": "74458ee4-c36f-46aa-8224-2f930a24c4b8",
        "colab": {
          "base_uri": "https://localhost:8080/"
        }
      },
      "outputs": [
        {
          "output_type": "stream",
          "name": "stdout",
          "text": [
            "Epoch 1/5\n",
            "217/217 [==============================] - ETA: 0s - loss: 2.2392 - accuracy: 0.3171"
          ]
        },
        {
          "output_type": "stream",
          "name": "stderr",
          "text": [
            "WARNING:absl:Found untraced functions such as _jit_compiled_convolution_op, _jit_compiled_convolution_op, _update_step_xla while saving (showing 3 of 3). These functions will not be directly callable after loading.\n"
          ]
        },
        {
          "output_type": "stream",
          "name": "stdout",
          "text": [
            "\b\b\b\b\b\b\b\b\b\b\b\b\b\b\b\b\b\b\b\b\b\b\b\b\b\b\b\b\b\b\b\b\b\b\b\b\b\b\b\b\b\b\b\b\b\b\b\b\b\b\b\b\b\b\b\b\b\b\b\b\b\b\b\b\b\b\b\b\b\b\b\b\b\b\b\b\b\b\b\b\b\b\b\b\r217/217 [==============================] - 152s 694ms/step - loss: 2.2392 - accuracy: 0.3171 - val_loss: 0.7644 - val_accuracy: 0.7863\n",
            "Epoch 2/5\n",
            "217/217 [==============================] - ETA: 0s - loss: 0.8720 - accuracy: 0.7043"
          ]
        },
        {
          "output_type": "stream",
          "name": "stderr",
          "text": [
            "WARNING:absl:Found untraced functions such as _jit_compiled_convolution_op, _jit_compiled_convolution_op, _update_step_xla while saving (showing 3 of 3). These functions will not be directly callable after loading.\n"
          ]
        },
        {
          "output_type": "stream",
          "name": "stdout",
          "text": [
            "\b\b\b\b\b\b\b\b\b\b\b\b\b\b\b\b\b\b\b\b\b\b\b\b\b\b\b\b\b\b\b\b\b\b\b\b\b\b\b\b\b\b\b\b\b\b\b\b\b\b\b\b\b\b\b\b\b\b\b\b\b\b\b\b\b\b\b\b\b\b\b\b\b\b\b\b\b\b\b\b\b\b\b\b\r217/217 [==============================] - 150s 694ms/step - loss: 0.8720 - accuracy: 0.7043 - val_loss: 0.1940 - val_accuracy: 0.9593\n",
            "Epoch 3/5\n",
            "217/217 [==============================] - ETA: 0s - loss: 0.4984 - accuracy: 0.8306"
          ]
        },
        {
          "output_type": "stream",
          "name": "stderr",
          "text": [
            "WARNING:absl:Found untraced functions such as _jit_compiled_convolution_op, _jit_compiled_convolution_op, _update_step_xla while saving (showing 3 of 3). These functions will not be directly callable after loading.\n"
          ]
        },
        {
          "output_type": "stream",
          "name": "stdout",
          "text": [
            "\b\b\b\b\b\b\b\b\b\b\b\b\b\b\b\b\b\b\b\b\b\b\b\b\b\b\b\b\b\b\b\b\b\b\b\b\b\b\b\b\b\b\b\b\b\b\b\b\b\b\b\b\b\b\b\b\b\b\b\b\b\b\b\b\b\b\b\b\b\b\b\b\b\b\b\b\b\b\b\b\b\b\b\b\r217/217 [==============================] - 146s 675ms/step - loss: 0.4984 - accuracy: 0.8306 - val_loss: 0.0839 - val_accuracy: 0.9825\n",
            "Epoch 4/5\n",
            "217/217 [==============================] - ETA: 0s - loss: 0.3590 - accuracy: 0.8755"
          ]
        },
        {
          "output_type": "stream",
          "name": "stderr",
          "text": [
            "WARNING:absl:Found untraced functions such as _jit_compiled_convolution_op, _jit_compiled_convolution_op, _update_step_xla while saving (showing 3 of 3). These functions will not be directly callable after loading.\n"
          ]
        },
        {
          "output_type": "stream",
          "name": "stdout",
          "text": [
            "\b\b\b\b\b\b\b\b\b\b\b\b\b\b\b\b\b\b\b\b\b\b\b\b\b\b\b\b\b\b\b\b\b\b\b\b\b\b\b\b\b\b\b\b\b\b\b\b\b\b\b\b\b\b\b\b\b\b\b\b\b\b\b\b\b\b\b\b\b\b\b\b\b\b\b\b\b\b\b\b\b\b\b\b\r217/217 [==============================] - 150s 690ms/step - loss: 0.3590 - accuracy: 0.8755 - val_loss: 0.0352 - val_accuracy: 0.9946\n",
            "Epoch 5/5\n",
            "217/217 [==============================] - ETA: 0s - loss: 0.2883 - accuracy: 0.9054"
          ]
        },
        {
          "output_type": "stream",
          "name": "stderr",
          "text": [
            "WARNING:absl:Found untraced functions such as _jit_compiled_convolution_op, _jit_compiled_convolution_op, _update_step_xla while saving (showing 3 of 3). These functions will not be directly callable after loading.\n"
          ]
        },
        {
          "output_type": "stream",
          "name": "stdout",
          "text": [
            "\b\b\b\b\b\b\b\b\b\b\b\b\b\b\b\b\b\b\b\b\b\b\b\b\b\b\b\b\b\b\b\b\b\b\b\b\b\b\b\b\b\b\b\b\b\b\b\b\b\b\b\b\b\b\b\b\b\b\b\b\b\b\b\b\b\b\b\b\b\b\b\b\b\b\b\b\b\b\b\b\b\b\b\b\r217/217 [==============================] - 145s 669ms/step - loss: 0.2883 - accuracy: 0.9054 - val_loss: 0.0314 - val_accuracy: 0.9950\n"
          ]
        }
      ],
      "source": [
        "checkpoint = ModelCheckpoint('model-{epoch:03d}.model',monitor='val_loss',verbose=0,save_best_only=True,mode='auto')\n",
        "history=classifier.fit(train_data,train_target,shuffle=True,epochs=5,callbacks=[checkpoint],validation_split=0.3)"
      ]
    },
    {
      "cell_type": "code",
      "execution_count": null,
      "metadata": {
        "id": "GyhWA8b7xf7O",
        "outputId": "ee8cb29a-a646-48f1-aa13-7b72325dc462",
        "colab": {
          "base_uri": "https://localhost:8080/"
        }
      },
      "outputs": [
        {
          "output_type": "stream",
          "name": "stdout",
          "text": [
            "78/78 [==============================] - 13s 164ms/step - loss: 0.0279 - accuracy: 0.9960\n",
            "[0.027912229299545288, 0.9959612488746643]\n"
          ]
        }
      ],
      "source": [
        "print(classifier.evaluate(test_data,test_target))"
      ]
    },
    {
      "cell_type": "code",
      "execution_count": null,
      "metadata": {
        "id": "WVoDnjaFxf7Q",
        "outputId": "51ab32d6-8e6d-42e5-aad6-bacd7038138a",
        "colab": {
          "base_uri": "https://localhost:8080/",
          "height": 477
        }
      },
      "outputs": [
        {
          "output_type": "display_data",
          "data": {
            "text/plain": [
              "<Figure size 640x480 with 1 Axes>"
            ],
            "image/png": "[encoded data removed]"
          },
          "metadata": {}
        }
      ],
      "source": [
        "N = 5\n",
        "H=history\n",
        "plt.style.use(\"ggplot\")\n",
        "plt.figure()\n",
        "plt.plot(np.arange(0, N), H.history[\"loss\"], label=\"train_loss\")\n",
        "plt.plot(np.arange(0, N), H.history[\"val_loss\"], label=\"val_loss\")\n",
        "plt.plot(np.arange(0, N), H.history[\"accuracy\"], label=\"train_acc\")\n",
        "plt.plot(np.arange(0, N), H.history[\"val_accuracy\"], label=\"val_acc\")\n",
        "plt.title(\"Training Loss and Accuracy\")\n",
        "plt.xlabel(\"Epoch #\")\n",
        "plt.ylabel(\"Loss/Accuracy\")\n",
        "plt.legend(loc=\"lower left\")\n",
        "plt.savefig('evaluation.png')"
      ]
    },
    {
      "cell_type": "code",
      "execution_count": null,
      "metadata": {
        "id": "ewHsAK6axf7R",
        "outputId": "2411cc73-692e-404a-95ba-16a500c12afe",
        "colab": {
          "base_uri": "https://localhost:8080/"
        }
      },
      "outputs": [
        {
          "output_type": "stream",
          "name": "stdout",
          "text": [
            "[INFO] saving mask detector model...\n",
            "Done !\n"
          ]
        }
      ],
      "source": [
        "# serialize the model to disk\n",
        "print(\"[INFO] saving mask detector model...\")\n",
        "classifier.save('asl_classifier.h5')\n",
        "print(\"Done !\")"
      ]
    },
    {
      "cell_type": "code",
      "execution_count": null,
      "metadata": {
        "id": "OaWhFIROxf7T",
        "outputId": "f80e7a9a-2b5f-4ee7-f89a-55d051974fc8",
        "colab": {
          "base_uri": "https://localhost:8080/",
          "height": 453
        }
      },
      "outputs": [
        {
          "output_type": "display_data",
          "data": {
            "text/plain": [
              "<Figure size 640x480 with 1 Axes>"
            ],
            "image/png": "[encoded data removed]"
          },
          "metadata": {}
        }
      ],
      "source": [
        "import matplotlib.pyplot as plt\n",
        "plt.plot(history.history['loss'])\n",
        "plt.plot(history.history['val_loss'])\n",
        "plt.xlabel('epochs')\n",
        "plt.ylabel('Loss')\n",
        "plt.legend(['train_loss','val_loss'], loc=0)\n",
        "plt.show()"
      ]
    },
    {
      "cell_type": "code",
      "execution_count": null,
      "metadata": {
        "id": "puszYmYFxf7U",
        "outputId": "7a12cbb5-3e95-404c-f940-9465f7cfd3c5",
        "colab": {
          "base_uri": "https://localhost:8080/",
          "height": 453
        }
      },
      "outputs": [
        {
          "output_type": "display_data",
          "data": {
            "text/plain": [
              "<Figure size 640x480 with 1 Axes>"
            ],
            "image/png": "[encoded data removed]"
          },
          "metadata": {}
        }
      ],
      "source": [
        "import matplotlib.pyplot as plt\n",
        "plt.plot(history.history['accuracy'])\n",
        "plt.plot(history.history['val_accuracy'])\n",
        "plt.xlabel('epochs')\n",
        "plt.ylabel('Accuracy')\n",
        "plt.legend(['train_accuracy','val_accuracy'], loc=0)\n",
        "plt.show()"
      ]
    }
  ],
  "metadata": {
    "kernelspec": {
      "display_name": "Python 3",
      "language": "python",
      "name": "python3"
    },
    "language_info": {
      "codemirror_mode": {
        "name": "ipython",
        "version": 3
      },
      "file_extension": ".py",
      "mimetype": "text/x-python",
      "name": "python",
      "nbconvert_exporter": "python",
      "pygments_lexer": "ipython3",
      "version": "3.8.10"
    },
    "vscode": {
      "interpreter": {
        "hash": "916dbcbb3f70747c44a77c7bcd40155683ae19c65e1c03b4aa3499c5328201f1"
      }
    },
    "colab": {
      "provenance": []
    },
    "accelerator": "GPU",
    "gpuClass": "standard"
  },
  "nbformat": 4,
  "nbformat_minor": 0
}